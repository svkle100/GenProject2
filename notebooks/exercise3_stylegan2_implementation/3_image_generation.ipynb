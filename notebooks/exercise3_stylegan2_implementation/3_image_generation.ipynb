{
 "cells": [
  {
   "cell_type": "markdown",
   "metadata": {
    "vscode": {
     "languageId": "shellscript"
    }
   },
   "source": [
    "# Note:\n",
    "\n",
    "the StyleGAN2 training code is not provided in this notebook. See the full\n",
    "implementation in the \n",
    "[StyleGAN2](https://github.com/SAutum/GenProject2/tree/stylegan2)."
   ]
  },
  {
   "cell_type": "code",
   "execution_count": 6,
   "metadata": {
    "vscode": {
     "languageId": "shellscript"
    }
   },
   "outputs": [
    {
     "name": "stdout",
     "output_type": "stream",
     "text": [
      "Requirement already satisfied: stylegan2_pytorch in /usr/local/lib/python3.10/dist-packages (1.9.0)\n",
      "Requirement already satisfied: tqdm in /usr/local/lib/python3.10/dist-packages (from stylegan2_pytorch) (4.67.1)\n",
      "Requirement already satisfied: kornia>=0.5.4 in /usr/local/lib/python3.10/dist-packages (from stylegan2_pytorch) (0.8.0)\n",
      "Requirement already satisfied: torchvision in /usr/local/lib/python3.10/dist-packages (from stylegan2_pytorch) (0.20.1)\n",
      "Requirement already satisfied: pillow in /usr/lib/python3/dist-packages (from stylegan2_pytorch) (9.0.1)\n",
      "Requirement already satisfied: vector-quantize-pytorch==0.1.0 in /usr/local/lib/python3.10/dist-packages (from stylegan2_pytorch) (0.1.0)\n",
      "Requirement already satisfied: fire in /usr/local/lib/python3.10/dist-packages (from stylegan2_pytorch) (0.7.0)\n",
      "Requirement already satisfied: retry in /usr/local/lib/python3.10/dist-packages (from stylegan2_pytorch) (0.9.2)\n",
      "Requirement already satisfied: torch>=2.2 in /usr/local/lib/python3.10/dist-packages (from stylegan2_pytorch) (2.5.1)\n",
      "Requirement already satisfied: einops>=0.8.0 in /usr/local/lib/python3.10/dist-packages (from stylegan2_pytorch) (0.8.0)\n",
      "Requirement already satisfied: numpy in /usr/local/lib/python3.10/dist-packages (from stylegan2_pytorch) (2.2.1)\n",
      "Requirement already satisfied: aim in /usr/local/lib/python3.10/dist-packages (from stylegan2_pytorch) (3.27.0)\n",
      "Requirement already satisfied: contrastive_learner>=0.1.0 in /usr/local/lib/python3.10/dist-packages (from stylegan2_pytorch) (0.1.1)\n",
      "Requirement already satisfied: packaging in /usr/local/lib/python3.10/dist-packages (from kornia>=0.5.4->stylegan2_pytorch) (24.1)\n",
      "Requirement already satisfied: kornia_rs>=0.1.0 in /usr/local/lib/python3.10/dist-packages (from kornia>=0.5.4->stylegan2_pytorch) (0.1.8)\n",
      "Requirement already satisfied: networkx in /usr/local/lib/python3.10/dist-packages (from torch>=2.2->stylegan2_pytorch) (3.4.2)\n",
      "Requirement already satisfied: nvidia-cudnn-cu12==9.1.0.70 in /usr/local/lib/python3.10/dist-packages (from torch>=2.2->stylegan2_pytorch) (9.1.0.70)\n",
      "Requirement already satisfied: nvidia-cublas-cu12==12.4.5.8 in /usr/local/lib/python3.10/dist-packages (from torch>=2.2->stylegan2_pytorch) (12.4.5.8)\n",
      "Requirement already satisfied: nvidia-cusparse-cu12==12.3.1.170 in /usr/local/lib/python3.10/dist-packages (from torch>=2.2->stylegan2_pytorch) (12.3.1.170)\n",
      "Requirement already satisfied: nvidia-cusolver-cu12==11.6.1.9 in /usr/local/lib/python3.10/dist-packages (from torch>=2.2->stylegan2_pytorch) (11.6.1.9)\n",
      "Requirement already satisfied: nvidia-cuda-runtime-cu12==12.4.127 in /usr/local/lib/python3.10/dist-packages (from torch>=2.2->stylegan2_pytorch) (12.4.127)\n",
      "Requirement already satisfied: nvidia-cuda-cupti-cu12==12.4.127 in /usr/local/lib/python3.10/dist-packages (from torch>=2.2->stylegan2_pytorch) (12.4.127)\n",
      "Requirement already satisfied: nvidia-nvjitlink-cu12==12.4.127 in /usr/local/lib/python3.10/dist-packages (from torch>=2.2->stylegan2_pytorch) (12.4.127)\n",
      "Requirement already satisfied: sympy==1.13.1 in /usr/local/lib/python3.10/dist-packages (from torch>=2.2->stylegan2_pytorch) (1.13.1)\n",
      "Requirement already satisfied: nvidia-nvtx-cu12==12.4.127 in /usr/local/lib/python3.10/dist-packages (from torch>=2.2->stylegan2_pytorch) (12.4.127)\n",
      "Requirement already satisfied: nvidia-curand-cu12==10.3.5.147 in /usr/local/lib/python3.10/dist-packages (from torch>=2.2->stylegan2_pytorch) (10.3.5.147)\n",
      "Requirement already satisfied: jinja2 in /usr/local/lib/python3.10/dist-packages (from torch>=2.2->stylegan2_pytorch) (3.1.4)\n",
      "Requirement already satisfied: triton==3.1.0 in /usr/local/lib/python3.10/dist-packages (from torch>=2.2->stylegan2_pytorch) (3.1.0)\n",
      "Requirement already satisfied: typing-extensions>=4.8.0 in /usr/local/lib/python3.10/dist-packages (from torch>=2.2->stylegan2_pytorch) (4.12.2)\n",
      "Requirement already satisfied: filelock in /usr/local/lib/python3.10/dist-packages (from torch>=2.2->stylegan2_pytorch) (3.16.1)\n",
      "Requirement already satisfied: fsspec in /usr/local/lib/python3.10/dist-packages (from torch>=2.2->stylegan2_pytorch) (2024.12.0)\n",
      "Requirement already satisfied: nvidia-cuda-nvrtc-cu12==12.4.127 in /usr/local/lib/python3.10/dist-packages (from torch>=2.2->stylegan2_pytorch) (12.4.127)\n",
      "Requirement already satisfied: nvidia-cufft-cu12==11.2.1.3 in /usr/local/lib/python3.10/dist-packages (from torch>=2.2->stylegan2_pytorch) (11.2.1.3)\n",
      "Requirement already satisfied: nvidia-nccl-cu12==2.21.5 in /usr/local/lib/python3.10/dist-packages (from torch>=2.2->stylegan2_pytorch) (2.21.5)\n",
      "Requirement already satisfied: mpmath<1.4,>=1.1.0 in /usr/local/lib/python3.10/dist-packages (from sympy==1.13.1->torch>=2.2->stylegan2_pytorch) (1.3.0)\n",
      "Requirement already satisfied: cachetools>=4.0.0 in /usr/local/lib/python3.10/dist-packages (from aim->stylegan2_pytorch) (5.5.0)\n",
      "Requirement already satisfied: uvicorn<1,>=0.12.0 in /usr/local/lib/python3.10/dist-packages (from aim->stylegan2_pytorch) (0.34.0)\n",
      "Requirement already satisfied: alembic<2,>=1.5.0 in /usr/local/lib/python3.10/dist-packages (from aim->stylegan2_pytorch) (1.14.0)\n",
      "Requirement already satisfied: aim-ui==3.27.0 in /usr/local/lib/python3.10/dist-packages (from aim->stylegan2_pytorch) (3.27.0)\n",
      "Requirement already satisfied: python-dateutil in /usr/local/lib/python3.10/dist-packages (from aim->stylegan2_pytorch) (2.9.0.post0)\n",
      "Requirement already satisfied: cryptography>=3.0 in /usr/lib/python3/dist-packages (from aim->stylegan2_pytorch) (3.4.8)\n",
      "Requirement already satisfied: aiofiles>=0.5.0 in /usr/local/lib/python3.10/dist-packages (from aim->stylegan2_pytorch) (24.1.0)\n",
      "Requirement already satisfied: aimrocks==0.5.* in /usr/local/lib/python3.10/dist-packages (from aim->stylegan2_pytorch) (0.5.2)\n",
      "Requirement already satisfied: requests in /usr/local/lib/python3.10/dist-packages (from aim->stylegan2_pytorch) (2.32.3)\n",
      "Requirement already satisfied: aimrecords==0.0.7 in /usr/local/lib/python3.10/dist-packages (from aim->stylegan2_pytorch) (0.0.7)\n",
      "Requirement already satisfied: fastapi<1,>=0.69.0 in /usr/local/lib/python3.10/dist-packages (from aim->stylegan2_pytorch) (0.115.6)\n",
      "Requirement already satisfied: pytz>=2019.1 in /usr/local/lib/python3.10/dist-packages (from aim->stylegan2_pytorch) (2024.2)\n",
      "Requirement already satisfied: SQLAlchemy>=1.4.1 in /usr/local/lib/python3.10/dist-packages (from aim->stylegan2_pytorch) (2.0.37)\n",
      "Requirement already satisfied: boto3 in /usr/local/lib/python3.10/dist-packages (from aim->stylegan2_pytorch) (1.35.99)\n",
      "Requirement already satisfied: RestrictedPython>=5.1 in /usr/local/lib/python3.10/dist-packages (from aim->stylegan2_pytorch) (7.4)\n",
      "Requirement already satisfied: click>=7.0 in /usr/lib/python3/dist-packages (from aim->stylegan2_pytorch) (8.0.3)\n",
      "Requirement already satisfied: websockets in /usr/local/lib/python3.10/dist-packages (from aim->stylegan2_pytorch) (14.1)\n",
      "Requirement already satisfied: psutil>=5.6.7 in /usr/local/lib/python3.10/dist-packages (from aim->stylegan2_pytorch) (6.1.0)\n",
      "Requirement already satisfied: base58==2.0.1 in /usr/local/lib/python3.10/dist-packages (from aimrecords==0.0.7->aim->stylegan2_pytorch) (2.0.1)\n",
      "Requirement already satisfied: termcolor in /usr/local/lib/python3.10/dist-packages (from fire->stylegan2_pytorch) (2.5.0)\n",
      "Requirement already satisfied: decorator>=3.4.2 in /usr/local/lib/python3.10/dist-packages (from retry->stylegan2_pytorch) (5.1.1)\n",
      "Requirement already satisfied: py<2.0.0,>=1.4.26 in /usr/local/lib/python3.10/dist-packages (from retry->stylegan2_pytorch) (1.11.0)\n",
      "Requirement already satisfied: Mako in /usr/local/lib/python3.10/dist-packages (from alembic<2,>=1.5.0->aim->stylegan2_pytorch) (1.3.8)\n",
      "Requirement already satisfied: starlette<0.42.0,>=0.40.0 in /usr/local/lib/python3.10/dist-packages (from fastapi<1,>=0.69.0->aim->stylegan2_pytorch) (0.41.3)\n",
      "Requirement already satisfied: pydantic!=1.8,!=1.8.1,!=2.0.0,!=2.0.1,!=2.1.0,<3.0.0,>=1.7.4 in /usr/local/lib/python3.10/dist-packages (from fastapi<1,>=0.69.0->aim->stylegan2_pytorch) (2.10.5)\n",
      "Requirement already satisfied: MarkupSafe>=2.0 in /usr/local/lib/python3.10/dist-packages (from jinja2->torch>=2.2->stylegan2_pytorch) (3.0.2)\n",
      "Requirement already satisfied: greenlet!=0.4.17 in /usr/local/lib/python3.10/dist-packages (from SQLAlchemy>=1.4.1->aim->stylegan2_pytorch) (3.1.1)\n",
      "Requirement already satisfied: h11>=0.8 in /usr/local/lib/python3.10/dist-packages (from uvicorn<1,>=0.12.0->aim->stylegan2_pytorch) (0.14.0)\n",
      "Requirement already satisfied: botocore<1.36.0,>=1.35.99 in /usr/local/lib/python3.10/dist-packages (from boto3->aim->stylegan2_pytorch) (1.35.99)\n",
      "Requirement already satisfied: s3transfer<0.11.0,>=0.10.0 in /usr/local/lib/python3.10/dist-packages (from boto3->aim->stylegan2_pytorch) (0.10.4)\n",
      "Requirement already satisfied: jmespath<2.0.0,>=0.7.1 in /usr/local/lib/python3.10/dist-packages (from boto3->aim->stylegan2_pytorch) (1.0.1)\n",
      "Requirement already satisfied: six>=1.5 in /usr/lib/python3/dist-packages (from python-dateutil->aim->stylegan2_pytorch) (1.16.0)\n",
      "Requirement already satisfied: charset-normalizer<4,>=2 in /usr/local/lib/python3.10/dist-packages (from requests->aim->stylegan2_pytorch) (3.4.0)\n",
      "Requirement already satisfied: idna<4,>=2.5 in /usr/lib/python3/dist-packages (from requests->aim->stylegan2_pytorch) (3.3)\n",
      "Requirement already satisfied: urllib3<3,>=1.21.1 in /usr/lib/python3/dist-packages (from requests->aim->stylegan2_pytorch) (1.26.5)\n",
      "Requirement already satisfied: certifi>=2017.4.17 in /usr/lib/python3/dist-packages (from requests->aim->stylegan2_pytorch) (2020.6.20)\n",
      "Requirement already satisfied: pydantic-core==2.27.2 in /usr/local/lib/python3.10/dist-packages (from pydantic!=1.8,!=1.8.1,!=2.0.0,!=2.0.1,!=2.1.0,<3.0.0,>=1.7.4->fastapi<1,>=0.69.0->aim->stylegan2_pytorch) (2.27.2)\n",
      "Requirement already satisfied: annotated-types>=0.6.0 in /usr/local/lib/python3.10/dist-packages (from pydantic!=1.8,!=1.8.1,!=2.0.0,!=2.0.1,!=2.1.0,<3.0.0,>=1.7.4->fastapi<1,>=0.69.0->aim->stylegan2_pytorch) (0.7.0)\n",
      "Requirement already satisfied: anyio<5,>=3.4.0 in /usr/local/lib/python3.10/dist-packages (from starlette<0.42.0,>=0.40.0->fastapi<1,>=0.69.0->aim->stylegan2_pytorch) (4.6.2.post1)\n",
      "Requirement already satisfied: sniffio>=1.1 in /usr/local/lib/python3.10/dist-packages (from anyio<5,>=3.4.0->starlette<0.42.0,>=0.40.0->fastapi<1,>=0.69.0->aim->stylegan2_pytorch) (1.3.1)\n",
      "Requirement already satisfied: exceptiongroup>=1.0.2 in /usr/local/lib/python3.10/dist-packages (from anyio<5,>=3.4.0->starlette<0.42.0,>=0.40.0->fastapi<1,>=0.69.0->aim->stylegan2_pytorch) (1.2.2)\n",
      "\u001b[33mWARNING: Running pip as the 'root' user can result in broken permissions and conflicting behaviour with the system package manager. It is recommended to use a virtual environment instead: https://pip.pypa.io/warnings/venv\u001b[0m\u001b[33m\n",
      "\u001b[0m"
     ]
    }
   ],
   "source": [
    "!pip install stylegan2_pytorch"
   ]
  },
  {
   "cell_type": "code",
   "execution_count": 7,
   "metadata": {
    "vscode": {
     "languageId": "shellscript"
    }
   },
   "outputs": [
    {
     "name": "stdout",
     "output_type": "stream",
     "text": [
      "Requirement already satisfied: pytorch-fid in /usr/local/lib/python3.10/dist-packages (0.3.0)\n",
      "Requirement already satisfied: torchvision>=0.2.2 in /usr/local/lib/python3.10/dist-packages (from pytorch-fid) (0.20.1)\n",
      "Requirement already satisfied: numpy in /usr/local/lib/python3.10/dist-packages (from pytorch-fid) (2.2.1)\n",
      "Requirement already satisfied: scipy in /usr/local/lib/python3.10/dist-packages (from pytorch-fid) (1.15.1)\n",
      "Requirement already satisfied: torch>=1.0.1 in /usr/local/lib/python3.10/dist-packages (from pytorch-fid) (2.5.1)\n",
      "Requirement already satisfied: pillow in /usr/lib/python3/dist-packages (from pytorch-fid) (9.0.1)\n",
      "Requirement already satisfied: nvidia-nccl-cu12==2.21.5 in /usr/local/lib/python3.10/dist-packages (from torch>=1.0.1->pytorch-fid) (2.21.5)\n",
      "Requirement already satisfied: nvidia-cublas-cu12==12.4.5.8 in /usr/local/lib/python3.10/dist-packages (from torch>=1.0.1->pytorch-fid) (12.4.5.8)\n",
      "Requirement already satisfied: sympy==1.13.1 in /usr/local/lib/python3.10/dist-packages (from torch>=1.0.1->pytorch-fid) (1.13.1)\n",
      "Requirement already satisfied: fsspec in /usr/local/lib/python3.10/dist-packages (from torch>=1.0.1->pytorch-fid) (2024.12.0)\n",
      "Requirement already satisfied: nvidia-cuda-cupti-cu12==12.4.127 in /usr/local/lib/python3.10/dist-packages (from torch>=1.0.1->pytorch-fid) (12.4.127)\n",
      "Requirement already satisfied: nvidia-cudnn-cu12==9.1.0.70 in /usr/local/lib/python3.10/dist-packages (from torch>=1.0.1->pytorch-fid) (9.1.0.70)\n",
      "Requirement already satisfied: nvidia-curand-cu12==10.3.5.147 in /usr/local/lib/python3.10/dist-packages (from torch>=1.0.1->pytorch-fid) (10.3.5.147)\n",
      "Requirement already satisfied: nvidia-cusparse-cu12==12.3.1.170 in /usr/local/lib/python3.10/dist-packages (from torch>=1.0.1->pytorch-fid) (12.3.1.170)\n",
      "Requirement already satisfied: nvidia-nvjitlink-cu12==12.4.127 in /usr/local/lib/python3.10/dist-packages (from torch>=1.0.1->pytorch-fid) (12.4.127)\n",
      "Requirement already satisfied: networkx in /usr/local/lib/python3.10/dist-packages (from torch>=1.0.1->pytorch-fid) (3.4.2)\n",
      "Requirement already satisfied: nvidia-cufft-cu12==11.2.1.3 in /usr/local/lib/python3.10/dist-packages (from torch>=1.0.1->pytorch-fid) (11.2.1.3)\n",
      "Requirement already satisfied: filelock in /usr/local/lib/python3.10/dist-packages (from torch>=1.0.1->pytorch-fid) (3.16.1)\n",
      "Requirement already satisfied: triton==3.1.0 in /usr/local/lib/python3.10/dist-packages (from torch>=1.0.1->pytorch-fid) (3.1.0)\n",
      "Requirement already satisfied: nvidia-cuda-runtime-cu12==12.4.127 in /usr/local/lib/python3.10/dist-packages (from torch>=1.0.1->pytorch-fid) (12.4.127)\n",
      "Requirement already satisfied: jinja2 in /usr/local/lib/python3.10/dist-packages (from torch>=1.0.1->pytorch-fid) (3.1.4)\n",
      "Requirement already satisfied: nvidia-cusolver-cu12==11.6.1.9 in /usr/local/lib/python3.10/dist-packages (from torch>=1.0.1->pytorch-fid) (11.6.1.9)\n",
      "Requirement already satisfied: nvidia-nvtx-cu12==12.4.127 in /usr/local/lib/python3.10/dist-packages (from torch>=1.0.1->pytorch-fid) (12.4.127)\n",
      "Requirement already satisfied: nvidia-cuda-nvrtc-cu12==12.4.127 in /usr/local/lib/python3.10/dist-packages (from torch>=1.0.1->pytorch-fid) (12.4.127)\n",
      "Requirement already satisfied: typing-extensions>=4.8.0 in /usr/local/lib/python3.10/dist-packages (from torch>=1.0.1->pytorch-fid) (4.12.2)\n",
      "Requirement already satisfied: mpmath<1.4,>=1.1.0 in /usr/local/lib/python3.10/dist-packages (from sympy==1.13.1->torch>=1.0.1->pytorch-fid) (1.3.0)\n",
      "Requirement already satisfied: MarkupSafe>=2.0 in /usr/local/lib/python3.10/dist-packages (from jinja2->torch>=1.0.1->pytorch-fid) (3.0.2)\n",
      "\u001b[33mWARNING: Running pip as the 'root' user can result in broken permissions and conflicting behaviour with the system package manager. It is recommended to use a virtual environment instead: https://pip.pypa.io/warnings/venv\u001b[0m\u001b[33m\n",
      "\u001b[0m"
     ]
    }
   ],
   "source": [
    "!pip install pytorch-fid"
   ]
  },
  {
   "cell_type": "markdown",
   "metadata": {},
   "source": [
    "80k images were fed into the StyleGAN2 model to generate the images in this\n",
    "notebook. However, the FID score stabliized afte 8k images, we stopped the \n",
    "training at 20k images."
   ]
  },
  {
   "cell_type": "code",
   "execution_count": null,
   "metadata": {
    "vscode": {
     "languageId": "shellscript"
    }
   },
   "outputs": [
    {
     "name": "stdout",
     "output_type": "stream",
     "text": [
      "80k_fom<./data/80k_fom/train>:   0%|                 | 0/150000 [00:00<?, ?it/s]/usr/local/lib/python3.10/dist-packages/torch/autograd/graph.py:825: UserWarning: Attempting to run cuBLAS, but there was no current CUDA context! Attempting to set the primary context... (Triggered internally at ../aten/src/ATen/cuda/CublasHandlePool.cpp:135.)\n",
      "  return Variable._execution_engine.run_backward(  # Calls into the C++ engine to run the backward pass\n",
      "80k_fom<./data/80k_fom/train>:   0%|     | 50/150000 [00:55<45:51:01,  1.10s/it]G: 1.04 | D: 1.50 | GP: 12.86\n",
      "80k_fom<./data/80k_fom/train>:   0%|    | 100/150000 [01:39<41:30:58,  1.00it/s]G: 4.77 | D: 0.74 | GP: 266.23\n",
      "80k_fom<./data/80k_fom/train>:   0%|    | 150/150000 [02:26<40:47:15,  1.02it/s]G: 0.23 | D: 1.77 | GP: 3.84\n",
      "80k_fom<./data/80k_fom/train>:   0%|    | 187/150000 [03:00<40:04:17,  1.04it/s]^C\n",
      "Traceback (most recent call last):\n",
      "  File \"/usr/local/bin/stylegan2_pytorch\", line 8, in <module>\n",
      "    sys.exit(main())\n",
      "  File \"/usr/local/lib/python3.10/dist-packages/stylegan2_pytorch/cli.py\", line 190, in main\n",
      "    fire.Fire(train_from_folder)\n",
      "  File \"/usr/local/lib/python3.10/dist-packages/fire/core.py\", line 135, in Fire\n",
      "    component_trace = _Fire(component, args, parsed_flag_args, context, name)\n",
      "  File \"/usr/local/lib/python3.10/dist-packages/fire/core.py\", line 468, in _Fire\n",
      "    component, remaining_args = _CallAndUpdateTrace(\n",
      "  File \"/usr/local/lib/python3.10/dist-packages/fire/core.py\", line 684, in _CallAndUpdateTrace\n",
      "    component = fn(*varargs, **kwargs)\n",
      "  File \"/usr/local/lib/python3.10/dist-packages/stylegan2_pytorch/cli.py\", line 181, in train_from_folder\n",
      "    run_training(0, 1, model_args, data, load_from, new, num_train_steps, name, seed)\n",
      "  File \"/usr/local/lib/python3.10/dist-packages/stylegan2_pytorch/cli.py\", line 60, in run_training\n",
      "    retry_call(model.train, tries=3, exceptions=NanException)\n",
      "  File \"/usr/local/lib/python3.10/dist-packages/retry/api.py\", line 101, in retry_call\n",
      "    return __retry_internal(partial(f, *args, **kwargs), exceptions, tries, delay, max_delay, backoff, jitter, logger)\n",
      "  File \"/usr/local/lib/python3.10/dist-packages/retry/api.py\", line 33, in __retry_internal\n",
      "    return f()\n",
      "  File \"/usr/local/lib/python3.10/dist-packages/stylegan2_pytorch/stylegan2_pytorch.py\", line 1073, in train\n",
      "    disc_loss.register_hook(raise_if_nan)\n",
      "  File \"/usr/local/lib/python3.10/dist-packages/torch/_tensor.py\", line 585, in register_hook\n",
      "    def register_hook(self, hook):\n",
      "KeyboardInterrupt\n"
     ]
    }
   ],
   "source": [
    "!stylegan2_pytorch --data ./data/80k_fom/train --name 80k_fom  --calculate-fid-every 5000 --image-size 64 --batch-size 256"
   ]
  }
 ],
 "metadata": {
  "kernelspec": {
   "display_name": "Python 3",
   "language": "python",
   "name": "python3"
  },
  "language_info": {
   "codemirror_mode": {
    "name": "ipython",
    "version": 3
   },
   "file_extension": ".py",
   "mimetype": "text/x-python",
   "name": "python",
   "nbconvert_exporter": "python",
   "pygments_lexer": "ipython3",
   "version": "3.10.12"
  }
 },
 "nbformat": 4,
 "nbformat_minor": 2
}
